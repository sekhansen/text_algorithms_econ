{
 "cells": [
  {
   "cell_type": "markdown",
   "id": "optional-influence",
   "metadata": {
    "id": "optional-influence"
   },
   "source": [
    "# **Introduction to Word2Vec**\n",
    "\n",
    "[![Open In Colab](https://colab.research.google.com/assets/colab-badge.svg)](https://colab.research.google.com/github/sekhansen/text_algorithms_econ/blob/main/notebooks/4_word2vec.ipynb)\n",
    "\n",
    "Word2Vec is a foundational model in natural language processing that learns vector representations of words from their surrounding context, capturing rich semantic relationships in a compact, low-dimensional space. For a more detailed introduction, see [these notes](https://drive.google.com/file/d/1VTDXVRQeTBYksLJC94GfTNNX0LraFczq/view?usp=drive_link). \n",
    "\n",
    "In this tutorial notebook, we’ll implement Word2Vec using an off-the-shelf Python library, ```Gensim``` — a robust and widely used toolkit for unsupervised topic modeling and natural language processing. See documentation [here](https://radimrehurek.com/gensim/models/word2vec.html).\n",
    "\n",
    "We’ll walk through:\n",
    "- Training a Word2Vec model using Gensim\n",
    "- Exploring the learned word embeddings through visualization, nearest neighbor analysis, and analogy tasks.\n",
    "\n",
    "Let’s get started!\n",
    "<br><br>"
   ]
  },
  {
   "cell_type": "markdown",
   "id": "e75c2330-27c2-4cf6-b7d8-312d7b60c898",
   "metadata": {
    "id": "e75c2330-27c2-4cf6-b7d8-312d7b60c898"
   },
   "source": [
    "# ⚙️ Setup\n",
    "Install and import required libraries for preprocessing, modeling, and visualization."
   ]
  },
  {
   "cell_type": "code",
   "execution_count": null,
   "id": "bc05b753-7cb8-43b7-8ec8-680bb0f188ba",
   "metadata": {
    "id": "bc05b753-7cb8-43b7-8ec8-680bb0f188ba"
   },
   "outputs": [],
   "source": [
    "# install required libraries\n",
    "!pip3 install flashtext                  # easy phrase replacing methods\n",
    "!pip3 install contractions               # expand English contractions\n",
    "!pip3 install spacy                      # functions for lemmatizing\n",
    "!pip3 install gensim==4.0.0              # word2vec estimation\n",
    "!pip3 install adjustText                 # generate plots with lots of text labels\n",
    "!pip3 install gdown                      # download files from Google Drive\n",
    "!pip3 install nltk                       # NLP library\n",
    "\n",
    "# install Spacy's language model\n",
    "# for more languages and models check: https://spacy.io/models\n",
    "!python3 -m spacy download en_core_web_sm"
   ]
  },
  {
   "cell_type": "code",
   "execution_count": 1,
   "id": "32ea6508",
   "metadata": {},
   "outputs": [],
   "source": [
    "# import libraries\n",
    "import sys\n",
    "import pandas as pd\n",
    "import numpy as np\n",
    "import string\n",
    "from gensim.models import Word2Vec\n",
    "import matplotlib.pyplot as plt\n",
    "from adjustText import adjust_text\n",
    "from sklearn.decomposition import PCA\n",
    "from collections import Counter\n",
    "from sklearn.preprocessing import StandardScaler"
   ]
  },
  {
   "cell_type": "code",
   "execution_count": 41,
   "id": "d50c9068",
   "metadata": {},
   "outputs": [],
   "source": [
    "# load data from Google Drive\n",
    "file_id = '1VzmiPSENUfqLaFG7ff3GmXJJKnvenGIe'\n",
    "url = f'https://drive.google.com/uc?id={file_id}'\n",
    "df = pd.read_csv(url, header=None, names=['text'])\n",
    "\n",
    "# Split each line into a list of tokens\n",
    "df['tokens'] = df['text'].str.split()\n",
    "preprocessed_tokens = df['tokens'].tolist()"
   ]
  },
  {
   "cell_type": "markdown",
   "id": "ff8cb7d3-d86a-4fdc-acc5-7402e74b12c8",
   "metadata": {
    "id": "ff8cb7d3-d86a-4fdc-acc5-7402e74b12c8"
   },
   "source": [
    "# 🧠 Off-the-shelf Word2Vec using Gensim\n",
    "\n",
    "[Gensim](https://radimrehurek.com/gensim/index.html) provides a fast and memory-efficient implementation of Word2Vec.\n",
    "Below, we’ll train a model on our preprocessed corpus and explore the learned word vectors."
   ]
  },
  {
   "cell_type": "markdown",
   "id": "7ddc39dd-70b8-43a2-a5e7-6a943cbdce33",
   "metadata": {
    "id": "7ddc39dd-70b8-43a2-a5e7-6a943cbdce33"
   },
   "source": [
    "## 🔧 Model Estimation\n",
    "\n",
    "With our tokenized corpus ready, let's estimate a Word2Vec model using Gensim’s `Word2Vec` class.\n",
    "This step will train the model using either the Skip-gram or CBOW approach (default: Skip-gram)."
   ]
  },
  {
   "cell_type": "code",
   "execution_count": 8,
   "id": "247cede9-6076-44c1-8977-85f6844f00d3",
   "metadata": {
    "id": "247cede9-6076-44c1-8977-85f6844f00d3"
   },
   "outputs": [],
   "source": [
    "# train Gensim's Word2Vec model (takes less than a minute)\n",
    "gensim_model = Word2Vec(sentences=preprocessed_tokens,      # corpus\n",
    "                        vector_size=100,            # embedding dimension\n",
    "                        window=5,                   # words before and after to take into consideration\n",
    "                        sg=1,                       # use skip-gram\n",
    "                        negative=10,                # number of negative examples for each positive one\n",
    "                        alpha=0.025,                # initial learning rate\n",
    "                        min_alpha=0.0001,           # minimum learning rate\n",
    "                        epochs=5,                   # number of passes through the data\n",
    "                        min_count=1,                # words that appear less than this are removed\n",
    "                        workers=1,                  # we use 1 to ensure replicability\n",
    "                        seed=92                     # for replicability\n",
    "                       )"
   ]
  },
  {
   "cell_type": "markdown",
   "id": "39d73cfe",
   "metadata": {},
   "source": [
    "### 📌 Understanding Model Parameters\n",
    "`Word2Vec` includes several important hyperparameters:\n",
    "- `sentences`: The input corpus, a list of tokenized sentences.\n",
    "- `vector_size`: Dimensionality of the word vectors (default is 100). Larger values may capture more nuance but require more data.\n",
    "- `window`: Maximum distance between the current and predicted word within a sentence. Smaller windows capture local context; larger ones general context.\n",
    "- `sg`: Training algorithm: 0 = CBOW (faster, more data-efficient), 1 = Skip-gram (slower, better for rare words).\n",
    "- `negative`: If > 0, enables Negative Sampling with that many noise words. Often improves performance.\n",
    "- `epochs`: Number of iterations over the corpus (default is 5). More epochs help when training on small corpora.\n",
    "- `min_count`: Ignores all words with total frequency lower than this. Useful for removing noise.\n",
    "- `workers`: Number of CPU threads to use during training."
   ]
  },
  {
   "cell_type": "code",
   "execution_count": 9,
   "id": "b9ca52c2-38b9-4377-9d19-c46f0c7194f2",
   "metadata": {
    "colab": {
     "base_uri": "https://localhost:8080/"
    },
    "id": "b9ca52c2-38b9-4377-9d19-c46f0c7194f2",
    "outputId": "44093018-c512-4d06-bbcd-d0bc987e89c9"
   },
   "outputs": [
    {
     "data": {
      "text/plain": [
       "(8886, 100)"
      ]
     },
     "execution_count": 9,
     "metadata": {},
     "output_type": "execute_result"
    }
   ],
   "source": [
    "# extract the word embeddings from the model\n",
    "word_vectors = gensim_model.wv\n",
    "word_vectors.vectors.shape  # vocab_size x embeddings dimension"
   ]
  },
  {
   "cell_type": "markdown",
   "id": "8afe694f-f4ee-486a-ac1b-7b2720077a7b",
   "metadata": {
    "id": "8afe694f-f4ee-486a-ac1b-7b2720077a7b"
   },
   "source": [
    "## *Visualization*\n",
    "Once you’ve trained a Word2Vec model, each word is represented as a high-dimensional vector (typically 100–300 dimensions). These vectors capture semantic meaning, but they’re hard to interpret or visualize directly.\n",
    "\n",
    "To visualize word embeddings, we can reduce their dimensionality to 2D or 3D using techniques like PCA (Principal Component Analysis)."
   ]
  },
  {
   "cell_type": "code",
   "execution_count": 10,
   "id": "6c11c66f-3219-4f7c-a777-fe0dc1ddb220",
   "metadata": {
    "id": "6c11c66f-3219-4f7c-a777-fe0dc1ddb220"
   },
   "outputs": [],
   "source": [
    "# use a PCA decomposition to visualize the embeddings in 2D\n",
    "def pca_scatterplot(model, words):\n",
    "    pca = PCA(n_components=2, random_state=92)\n",
    "    word_vectors = np.array([model[w] for w in words])\n",
    "    low_dim_emb = pca.fit_transform(word_vectors)\n",
    "    plt.figure(figsize=(21,10))\n",
    "    plt.scatter(low_dim_emb[:,0], low_dim_emb[:,1], edgecolors='blue', c='blue')\n",
    "    plt.xlabel(\"Component 1\")\n",
    "    plt.ylabel(\"Component 2\")\n",
    "\n",
    "    # get the text of the plotted words\n",
    "    texts = []\n",
    "    for word, (x,y) in zip(words, low_dim_emb):\n",
    "        texts.append(plt.text(x+0.01, y+0.01, word, rotation=0))\n",
    "    \n",
    "    # adjust the position of the labels so that they dont overlap\n",
    "    adjust_text(texts)\n",
    "    # show plot\n",
    "    plt.show()"
   ]
  },
  {
   "cell_type": "code",
   "execution_count": 12,
   "id": "41a980f8-d2d7-4b7e-8aae-fb74ab132df7",
   "metadata": {
    "colab": {
     "base_uri": "https://localhost:8080/",
     "height": 606
    },
    "id": "41a980f8-d2d7-4b7e-8aae-fb74ab132df7",
    "outputId": "1f38ce3c-48cf-4745-a202-8105027d6e3a"
   },
   "outputs": [
    {
     "data": {
      "image/png": "[encoded data removed]",
      "text/plain": [
       "<Figure size 2100x1000 with 1 Axes>"
      ]
     },
     "metadata": {},
     "output_type": "display_data"
    }
   ],
   "source": [
    "# define the tokens to use in the plot\n",
    "tokens_of_interest = ['economy', 'gdp', 'production', 'output',\n",
    "                      'investment', 'confidence', 'sentiment',\n",
    "                      'uncertainty', 'inflation', 'cpi',\n",
    "                      'loan', 'mortgage', 'credit', 'debt', 'savings', \n",
    "                      'borrowing', 'housing', 'labour', 'workforce', \n",
    "                      'unemployment', 'employment', 'jobs', 'wages',\n",
    "                      'trade', 'exports', 'imports']\n",
    "\n",
    "# define dictionary for preprocessing class with terms we want to preserve\n",
    "replacing_dict = {'monetary policy':'monetary-policy',\n",
    "                  'interest rate':'interest-rate',\n",
    "                  'interest rates':'interest-rate',\n",
    "                  'yield curve':'yield-curve',\n",
    "                  'repo rate':'repo-rate',\n",
    "                  'bond yields':'bond-yields',\n",
    "                  'real estate':'real-estate',\n",
    "                  'economic growth':'economic-growth'}\n",
    "\n",
    "# expand the list of tokens with all the tokens from the replacement dictionary\n",
    "tokens_of_interest = set(tokens_of_interest + list(replacing_dict.values()) )\n",
    "\n",
    "# plot\n",
    "pca_scatterplot(word_vectors, list(tokens_of_interest))"
   ]
  },
  {
   "cell_type": "markdown",
   "id": "3760eb2f",
   "metadata": {
    "id": "3760eb2f"
   },
   "source": [
    "We can clearly observe how words form some thematically cohesive groups; trade (e.g. exports, imports, trade, output), job-market (e.g. workforce, jobs, employment), housing (e.g. real-state, housing, borrowing, mortgage)."
   ]
  },
  {
   "cell_type": "markdown",
   "id": "af539380-686d-4ec5-924c-9f8bd51ace1e",
   "metadata": {
    "id": "af539380-686d-4ec5-924c-9f8bd51ace1e"
   },
   "source": [
    "## *Nearest neighbors analysis*\n",
    "\n",
    "We can further explore how words cluster in the embedded space by analyzing the nearest neighbours of some selected words.\n",
    "\n",
    "### 📐 How Word2Vec Measures Distance\n",
    "\n",
    "After training, Word2Vec represents each word as a vector in a high-dimensional space. To measure how **similar** two words are, it compares the **distance** (more accurately, the angle) between their vectors.\n",
    "\n",
    "#### ✅ Cosine Similarity (Default in Gensim)\n",
    "\n",
    "Word2Vec uses **cosine similarity** by default:\n",
    "\n",
    "$\\text{cosine\\_similarity}(A, B) = \\frac{A \\cdot B}{\\|A\\| \\cdot \\|B\\|}$\n",
    "\n",
    "Where:\n",
    "- $A \\cdot B$ is the dot product of the two vectors\n",
    "- $\\|A\\|$ and $\\|B\\|$ are the magnitudes (norms) of the vectors\n",
    "\n",
    "#### 🔍 Why Cosine?\n",
    "\n",
    "- Cosine similarity measures the **angle** between two vectors, focusing on **direction**, not magnitude.\n",
    "- This is ideal because **direction encodes meaning** in Word2Vec embeddings.\n",
    "- Vector length may vary due to word frequency, but angle captures **semantic similarity**."
   ]
  },
  {
   "cell_type": "code",
   "execution_count": 51,
   "id": "d5eadc3a-2711-4369-8c42-8df7c13af56a",
   "metadata": {
    "colab": {
     "base_uri": "https://localhost:8080/"
    },
    "id": "d5eadc3a-2711-4369-8c42-8df7c13af56a",
    "outputId": "f6f43e1b-b9a2-441f-9568-766cf0d75e76"
   },
   "outputs": [
    {
     "name": "stdout",
     "output_type": "stream",
     "text": [
      "neighbors of 'uncertainty':\n",
      "        Neighbor  Similarity\n",
      "0    surrounding      0.6552\n",
      "1      surrounds      0.6303\n",
      "2  uncertainties      0.6213\n",
      "3        tension      0.6161\n",
      "4      uncertain      0.6077\n",
      "\n",
      "\n",
      "neighbors of 'risk':\n",
      "        Neighbor  Similarity\n",
      "0          risks      0.7024\n",
      "1    possibility      0.6915\n",
      "2         posing      0.6615\n",
      "3  possibilities      0.6544\n",
      "4           pose      0.6543\n",
      "\n",
      "\n",
      "neighbors of 'stable':\n",
      "     Neighbor  Similarity\n",
      "0  remarkably      0.7280\n",
      "1    speaking      0.7205\n",
      "2        flat      0.7082\n",
      "3      fairly      0.7035\n",
      "4  stabilised      0.6907\n",
      "\n",
      "\n",
      "neighbors of 'contraction':\n",
      "     Neighbor  Similarity\n",
      "0  bounceback      0.7915\n",
      "1  contracted      0.7617\n",
      "2  destocking      0.7609\n",
      "3    run-down      0.7458\n",
      "4       surge      0.7424\n",
      "\n",
      "\n",
      "neighbors of 'expansion':\n",
      "   Neighbor  Similarity\n",
      "0  vigorous      0.7655\n",
      "1   upswing      0.7612\n",
      "2     brisk      0.7610\n",
      "3   briskly      0.7505\n",
      "4    upturn      0.7436\n",
      "\n",
      "\n",
      "neighbors of 'monetary-policy':\n",
      "        Neighbor  Similarity\n",
      "0         policy      0.7637\n",
      "1         stance      0.7158\n",
      "2  accommodative      0.6672\n",
      "3    stimulatory      0.6670\n",
      "4       monetary      0.6458\n",
      "\n",
      "\n",
      "neighbors of 'interest-rate':\n",
      "         Neighbor  Similarity\n",
      "0  market-implied      0.6930\n",
      "1     yield-curve      0.6888\n",
      "2       repo-rate      0.6667\n",
      "3           bound      0.6635\n",
      "4      convenient      0.6607\n",
      "\n",
      "\n",
      "neighbors of 'inflation':\n",
      "        Neighbor  Similarity\n",
      "0           rpix      0.7222\n",
      "1            cpi      0.7164\n",
      "2   below-target      0.7002\n",
      "3         target      0.6971\n",
      "4  well-anchored      0.6900\n",
      "\n",
      "\n"
     ]
    }
   ],
   "source": [
    "# find the K nearest neighbours of relevant words\n",
    "K = 5\n",
    "words = [\"uncertainty\", \"risk\", \"stable\",\n",
    "         \"contraction\", \"expansion\",\n",
    "         \"monetary-policy\", \"interest-rate\", \"inflation\"]\n",
    "\n",
    "for word in words:\n",
    "    results = []\n",
    "    neighbors = word_vectors.most_similar(word, topn=K)\n",
    "    for neighbor_word, similarity in neighbors:\n",
    "        results.append({\n",
    "            'Neighbor': neighbor_word,\n",
    "            'Similarity': round(similarity, 4)\n",
    "        })\n",
    "    print(f\"neighbors of '{word}':\")\n",
    "    print(pd.DataFrame(results))\n",
    "    print('\\n')"
   ]
  },
  {
   "cell_type": "markdown",
   "id": "21cf8616-e4ae-4ca5-936d-eb9c0f0c6f03",
   "metadata": {
    "id": "21cf8616-e4ae-4ca5-936d-eb9c0f0c6f03"
   },
   "source": [
    "## *Analogy tasks*"
   ]
  },
  {
   "attachments": {},
   "cell_type": "markdown",
   "id": "6831515e",
   "metadata": {
    "id": "6831515e"
   },
   "source": [
    "A very interesting, and surprising, use of word embeddings is to find word analogies. The famous example used by [Mikolov et al. (2013)](https://arxiv.org/pdf/1301.3781.pdf) searches for a word $X$ in the embedded space that is similar to \"woman\" in the same sense that \"king\" is similar to \"man\". This task can be expressed in terms of a simple vector arithmetic problem as follows:\n",
    "\n",
    "$$\n",
    "\\vec{King}^{\\,} - \\vec{Man}^{\\,} = \\vec{X}^{\\,} - \\vec{Woman}^{\\,} \\\\\n",
    "\\vec{King}^{\\,} - \\vec{Man}^{\\,} + \\vec{Woman}^{\\,} = \\vec{X}^{\\,}\n",
    "$$\n",
    "\n",
    "Mikolov et al. (2013) find that when performing this operation on their trained embeddings, they are able to recover the word \"queen\".\n",
    "\n",
    "$$ \\vec{King}^{\\,} - \\vec{Man}^{\\,} + \\vec{Woman}^{\\,} \\approx \\vec{Queen}^{\\,} $$\n",
    "\n",
    "Using ```Gensim``` this operation can be very easily perfomed by simply using the ```.most_similar()``` function as follows:\n",
    "\n",
    "<center>\n",
    "\n",
    "```python\n",
    "word_vectors.most_similar(positive=['king', 'woman'], negative=['man'])\n",
    "```\n",
    "\n",
    "</center>"
   ]
  },
  {
   "cell_type": "markdown",
   "id": "2279c969",
   "metadata": {
    "id": "2279c969"
   },
   "source": [
    "We will play with this idea and try to extend it to our own domain. Some of the analogies that we will try to solve are: \n",
    "\n",
    "$$\n",
    "\\vec{Contraction}^{\\,} - \\vec{Expansion}^{\\,} + \\vec{Downward}^{\\,} = \\vec{X}^{\\,} \\\\\n",
    "\\vec{Inflation}^{\\,} - \\vec{CPI}^{\\,} + \\vec{GDP}^{\\,} = \\vec{X}^{\\,} \\\\\n",
    "$$"
   ]
  },
  {
   "cell_type": "code",
   "execution_count": 47,
   "id": "PrOTPikwjPs1",
   "metadata": {
    "colab": {
     "base_uri": "https://localhost:8080/"
    },
    "id": "PrOTPikwjPs1",
    "outputId": "a05b473f-f1b3-42d2-ee4b-634f1673bc11"
   },
   "outputs": [
    {
     "name": "stdout",
     "output_type": "stream",
     "text": [
      "'expansion' is to 'contraction' as 'downward' is to:\n",
      "           Analogy word  Similarity\n",
      "0                upward      0.6891\n",
      "1  faster-than-expected      0.6074\n",
      "2            unaffected      0.5849\n",
      "3               upwards      0.5784\n",
      "4               pulling      0.5783\n",
      "\n",
      "\n",
      "'cpi' is to 'inflation' as 'gdp' is to:\n",
      "      Analogy word  Similarity\n",
      "0   fourth-quarter      0.5543\n",
      "1       moderately      0.5504\n",
      "2  economic-growth      0.5492\n",
      "3       sluggishly      0.5481\n",
      "4      below-trend      0.5461\n",
      "\n",
      "\n",
      "'profits' is to 'company' as 'wages' is to:\n",
      "  Analogy word  Similarity\n",
      "0      demands      0.5930\n",
      "1         wage      0.5879\n",
      "2   bargaining      0.5741\n",
      "3      erosion      0.5699\n",
      "4       recoup      0.5646\n",
      "\n",
      "\n",
      "'contraction' is to 'expansion' as 'tighten' is to:\n",
      "  Analogy word  Similarity\n",
      "0      improve      0.6389\n",
      "1       loosen      0.6204\n",
      "2       expand      0.6039\n",
      "3      thawing      0.5945\n",
      "4         ease      0.5771\n",
      "\n",
      "\n"
     ]
    }
   ],
   "source": [
    "# create the analogy tasks for our data\n",
    "positive_words = [['contraction', 'downward'],\n",
    "                  ['inflation', 'gdp'],\n",
    "                  ['company', 'wages'],\n",
    "                  ['expansion', 'tighten']]\n",
    "\n",
    "negative_words = [['expansion'],\n",
    "                  ['cpi'],\n",
    "                  ['profits'],\n",
    "                  ['contraction']]\n",
    "\n",
    "for pw, nw in zip(positive_words, negative_words):\n",
    "    #print(f\"Analogy task for positive words: {pw} and negative words {nw}\")\n",
    "    results = []\n",
    "    print(f\"'{nw[0]}' is to '{pw[0]}' as '{pw[1]}' is to:\")\n",
    "    neighbors = word_vectors.most_similar(positive=pw, negative=nw)[:K]\n",
    "    for neighbor_word, similarity in neighbors:\n",
    "        results.append({\n",
    "            'Analogy word': neighbor_word,\n",
    "            'Similarity': round(similarity, 4)\n",
    "        })\n",
    "    print(pd.DataFrame(results))\n",
    "    print(\"\\n\")"
   ]
  }
 ],
 "metadata": {
  "accelerator": "GPU",
  "colab": {
   "collapsed_sections": [],
   "provenance": [],
   "toc_visible": true
  },
  "kernelspec": {
   "display_name": "base",
   "language": "python",
   "name": "python3"
  },
  "language_info": {
   "codemirror_mode": {
    "name": "ipython",
    "version": 3
   },
   "file_extension": ".py",
   "mimetype": "text/x-python",
   "name": "python",
   "nbconvert_exporter": "python",
   "pygments_lexer": "ipython3",
   "version": "3.12.2"
  }
 },
 "nbformat": 4,
 "nbformat_minor": 5
}
